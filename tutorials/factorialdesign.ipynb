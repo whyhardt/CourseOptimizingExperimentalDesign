{
 "cells": [
  {
   "cell_type": "markdown",
   "metadata": {},
   "source": [
    "# Introduction to Factorial Experimental Design"
   ]
  },
  {
   "cell_type": "markdown",
   "metadata": {},
   "source": [
    "This notebook introduces the concept of Factorial Experimental Design (FED) and demonstrates how to implement a factorial experiment using Python\n",
    "\n",
    "Factorial experiments are a popular tool for studying main effects of single factors and interaction effects of multiple factors at different factor levels in a controlled manner.\n",
    "\n",
    "This tutorial covers only the full FEDs. For fractional FEDs take a look at the additional resources.\n",
    "\n",
    "In this tutorial you will learn to define the necessary parameters for a full FED i.e., factors and levels and how to compute the design matrix which contains all possible treatment combinations.\n",
    "\n",
    "Later we will use an ANOVA to analyze all interaction effects and tell whether they are significant."
   ]
  },
  {
   "cell_type": "markdown",
   "metadata": {},
   "source": [
    "## Setup of a Factorial Experimental Design\n",
    "\n",
    "First, we will define all necessary parameters for our FED.\n",
    "This will be done by defining a dictionary where each key is a factor and the corresponding values will be the levels.\n",
    "\n",
    "Here we will implement a 3x3 factorial experiment. This means we will have three factors and three levels per factor. "
   ]
  },
  {
   "cell_type": "code",
   "execution_count": null,
   "metadata": {},
   "outputs": [],
   "source": [
    "# Define the factorial parameters\n",
    "# Remember, we need a 3x3 factorial design\n",
    "n_factors = None\n",
    "n_levels = None"
   ]
  },
  {
   "cell_type": "markdown",
   "metadata": {},
   "source": [
    "Define the dictionary which contains the factors and the corresponding values\n",
    "\n",
    "You can leave the values None since we will fill them in a little bit later."
   ]
  },
  {
   "cell_type": "code",
   "execution_count": null,
   "metadata": {},
   "outputs": [],
   "source": [
    "factorial_design = {\n",
    "    'factor1': None,\n",
    "    # add more factors here\n",
    "}"
   ]
  },
  {
   "cell_type": "markdown",
   "metadata": {},
   "source": [
    "Now we will fill the values. For that we implement a method which we can re-use later on.\n",
    "\n",
    "This method will make use of the linspace method from numpy \n",
    "to create a list of evenly distributed numbers between the first and the second argument (the range)\n",
    "the third argument is the number of values in the list.\n",
    "\n",
    "In our case, the given for each level will be between 0 and 1. \n",
    "\n",
    "We will fill the dictionary in a fully automatically with a for loop."
   ]
  },
  {
   "cell_type": "code",
   "execution_count": null,
   "metadata": {},
   "outputs": [],
   "source": [
    "import numpy as np\n",
    "\n",
    "def set_levels(factorial_design: dict, n_levels: int):\n",
    "    \"\"\"\n",
    "    Args:\n",
    "        factorial_design (dict): the dictionary containing all the factors\n",
    "        levels (int): the number of levels for each factor\n",
    "    \"\"\"\n",
    "    \n",
    "    # uncomment the following line and add your code in the for loop\n",
    "    # for key in factorial_design.keys():\n",
    "        # add your code here\n",
    "            \n",
    "    return factorial_design"
   ]
  },
  {
   "cell_type": "markdown",
   "metadata": {},
   "source": [
    "Let's run this method to fill our dictionary"
   ]
  },
  {
   "cell_type": "code",
   "execution_count": null,
   "metadata": {},
   "outputs": [],
   "source": [
    "factorial_design = set_levels(factorial_design, n_levels)"
   ]
  },
  {
   "cell_type": "markdown",
   "metadata": {},
   "source": [
    "Now we are going to check if you defined the factorial design correctly!\n",
    "\n",
    "Please do not change this code."
   ]
  },
  {
   "cell_type": "code",
   "execution_count": null,
   "metadata": {},
   "outputs": [],
   "source": [
    "assert n_factors == 3, \"Seems like you didn't set the number of factors correctly.\"\n",
    "assert n_levels == 3, \"Seems like you didn't set the number of levels correctly.\"\n",
    "assert len(factorial_design) == n_factors, \"Seems like the number of factors in the dictionary is not the defined number of factors.\"\n",
    "for key in factorial_design.keys():\n",
    "    assert len(factorial_design[key]) == n_levels, \"Seems like the number of levels in the dictionary is not the defined number of levels.\"\n",
    "    assert np.allclose(factorial_design[key], np.array([0, 0.5, 1])), \"Seems like you didn't set the levels correctly.\"\n",
    "    \n",
    "print(\"Well done! You passed all the tests successfully!\")"
   ]
  },
  {
   "cell_type": "markdown",
   "metadata": {},
   "source": [
    "## Make Treatment Combinations\n",
    "\n",
    "In this part we will take the defined FED and create all the possible treatment combinations which are necessary for a full factorial experiment.\n",
    "\n",
    "We can implement such a method which does that either by using simple for-loops or through the itertool library."
   ]
  },
  {
   "cell_type": "code",
   "execution_count": null,
   "metadata": {},
   "outputs": [],
   "source": [
    "# use the itertool library to create all treatment combinations from the factorial design\n",
    "import itertools\n",
    "\n",
    "treatment_combinations = None\n",
    "\n",
    "# uncomment the following line and add your code\n",
    "treatment_combinations = list(itertools.product(*factorial_design.values()))"
   ]
  },
  {
   "cell_type": "markdown",
   "metadata": {},
   "source": [
    "Let's take a look at the possible treatment combinations"
   ]
  },
  {
   "cell_type": "code",
   "execution_count": null,
   "metadata": {},
   "outputs": [],
   "source": [
    "print(\"The treatment combinations are:\")\n",
    "for index, treatment_combination in enumerate(treatment_combinations):\n",
    "    print(f\"{index}:\\t{treatment_combination}\")"
   ]
  },
  {
   "cell_type": "markdown",
   "metadata": {},
   "source": [
    "Does this seem right? Let's check!"
   ]
  },
  {
   "cell_type": "code",
   "execution_count": null,
   "metadata": {},
   "outputs": [],
   "source": [
    "assert len(treatment_combinations) == n_levels ** n_factors, \"Seems like you didn't create all treatment combinations.\"\n",
    "\n",
    "print(\"Well done! You created all possible treatment combinations!\")"
   ]
  },
  {
   "cell_type": "markdown",
   "metadata": {},
   "source": [
    "## Factorial Explosion\n",
    "\n",
    "For a 3x3 FED there are already $levels^{factors}=3^3=27$ possible treatments.\n",
    "\n",
    "Multiplying that by several repititions per treatment, we easily get to hundreds of runs per experimental unit.\n",
    "\n",
    "Having even more factors or levels increases that number dramatically.\n",
    "\n",
    "This is called factorial explosion.\n",
    "\n",
    "For e.g. 7 factors at 3 levels we get $3^7=2187$ runs per unit. In many experimental cases that's basically unfeasible."
   ]
  },
  {
   "cell_type": "markdown",
   "metadata": {},
   "source": [
    "## Fractional FED\n",
    "\n",
    "To overcome the problem of factorial explosion, researchers came up with fractional FED.\n",
    "\n",
    "In this case you're cutting down the number of possible combinations.\n",
    "\n",
    "But this might be impractical since we don't know the effect sizes of these interactions beforehand.\n",
    "\n",
    "But fractional FED can be a great tool if the researcher has a clear picture of the research goals - just keep this limitation in mind."
   ]
  }
 ],
 "metadata": {
  "kernelspec": {
   "display_name": "oed",
   "language": "python",
   "name": "python3"
  },
  "language_info": {
   "codemirror_mode": {
    "name": "ipython",
    "version": 3
   },
   "file_extension": ".py",
   "mimetype": "text/x-python",
   "name": "python",
   "nbconvert_exporter": "python",
   "pygments_lexer": "ipython3",
   "version": "3.11.5"
  }
 },
 "nbformat": 4,
 "nbformat_minor": 2
}
