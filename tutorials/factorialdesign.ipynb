{
 "cells": [
  {
   "cell_type": "markdown",
   "metadata": {},
   "source": [
    "# Introduction to Factorial Experimental Design"
   ]
  },
  {
   "cell_type": "markdown",
   "metadata": {},
   "source": [
    "This notebook introduces the concept of Factorial Experimental Design (FED) and demonstrates how to implement a factorial experiment using Python\n",
    "\n",
    "Factorial experiments are a popular tool for studying main effects of single factors and interaction effects of multiple factors at different factor levels in a controlled manner.\n",
    "\n",
    "This tutorial covers only the full FEDs. For fractional FEDs take a look at the additional resources.\n",
    "\n",
    "In this tutorial you will learn to define the necessary parameters for a full FED i.e., factors and levels and how to compute the design matrix which contains all possible treatment combinations."
   ]
  },
  {
   "cell_type": "markdown",
   "metadata": {},
   "source": [
    "## Setup of a Factorial Experimental Design\n",
    "\n",
    "First, we will define all necessary parameters for our FED.\n",
    "This will be done by defining a dictionary where each key is a factor and the corresponding values will be the levels.\n",
    "\n",
    "Here we will implement a 2x10 FED for our response time experiment with the factors `ratio` and `scatteredness`. This means we will have two factors and ten levels per factor. "
   ]
  },
  {
   "cell_type": "code",
   "execution_count": 1,
   "metadata": {},
   "outputs": [],
   "source": [
    "# Define the factorial parameters\n",
    "# Remember, we need a 3x3 factorial design\n",
    "n_factors = 2\n",
    "n_levels = 10"
   ]
  },
  {
   "cell_type": "markdown",
   "metadata": {},
   "source": [
    "Define the dictionary which contains the factors and the corresponding values\n",
    "\n",
    "You can leave the values None since we will fill them in a little bit later."
   ]
  },
  {
   "cell_type": "code",
   "execution_count": 2,
   "metadata": {},
   "outputs": [],
   "source": [
    "factorial_design = {\n",
    "    'ratio': None,\n",
    "    'scatteredness': None,\n",
    "}"
   ]
  },
  {
   "cell_type": "markdown",
   "metadata": {},
   "source": [
    "Now we will fill the values. For that we implement a method which we can re-use later on.\n",
    "\n",
    "This method will make use of the linspace method from numpy \n",
    "to create a list of evenly distributed numbers between the first and the second argument (the range)\n",
    "the third argument is the number of values in the list.\n",
    "\n",
    "In our case, the given for each level will be between 0 and 1. \n",
    "\n",
    "We will fill the dictionary in a fully automatically with a for loop."
   ]
  },
  {
   "cell_type": "code",
   "execution_count": 3,
   "metadata": {},
   "outputs": [],
   "source": [
    "import numpy as np\n",
    "\n",
    "def set_levels(factorial_design: dict, n_levels: int):\n",
    "    \"\"\"\n",
    "    Args:\n",
    "        factorial_design (dict): the dictionary containing all the factors\n",
    "        levels (int): the number of levels for each factor\n",
    "    \"\"\"\n",
    "    \n",
    "    # uncomment the following line and add your code in the for loop\n",
    "    for key in factorial_design.keys():\n",
    "        factorial_design[key] = np.linspace(0, 1, n_levels)\n",
    "        \n",
    "    return factorial_design"
   ]
  },
  {
   "cell_type": "markdown",
   "metadata": {},
   "source": [
    "Let's run this method to fill our dictionary"
   ]
  },
  {
   "cell_type": "code",
   "execution_count": 6,
   "metadata": {},
   "outputs": [
    {
     "name": "stdout",
     "output_type": "stream",
     "text": [
      "{'ratio': array([0.        , 0.11111111, 0.22222222, 0.33333333, 0.44444444,\n",
      "       0.55555556, 0.66666667, 0.77777778, 0.88888889, 1.        ]), 'scatteredness': array([0.        , 0.11111111, 0.22222222, 0.33333333, 0.44444444,\n",
      "       0.55555556, 0.66666667, 0.77777778, 0.88888889, 1.        ])}\n"
     ]
    }
   ],
   "source": [
    "factorial_design = set_levels(factorial_design, n_levels)\n",
    "print(factorial_design)"
   ]
  },
  {
   "cell_type": "markdown",
   "metadata": {},
   "source": [
    "## Make Treatment Combinations\n",
    "\n",
    "In this part we will take the defined FED and create all the possible treatment combinations which are necessary for a full factorial experiment.\n",
    "\n",
    "We can implement such a method which does that either by using simple for-loops or through the itertool library."
   ]
  },
  {
   "cell_type": "code",
   "execution_count": 7,
   "metadata": {},
   "outputs": [],
   "source": [
    "# use the itertool library to create all treatment combinations from the factorial design\n",
    "import itertools\n",
    "\n",
    "treatment_combinations = list(itertools.product(*factorial_design.values()))"
   ]
  },
  {
   "cell_type": "markdown",
   "metadata": {},
   "source": [
    "Let's take a look at the possible treatment combinations"
   ]
  },
  {
   "cell_type": "code",
   "execution_count": 8,
   "metadata": {},
   "outputs": [
    {
     "name": "stdout",
     "output_type": "stream",
     "text": [
      "The treatment combinations are:\n",
      "0:\t(np.float64(0.0), np.float64(0.0))\n",
      "1:\t(np.float64(0.0), np.float64(0.1111111111111111))\n",
      "2:\t(np.float64(0.0), np.float64(0.2222222222222222))\n",
      "3:\t(np.float64(0.0), np.float64(0.3333333333333333))\n",
      "4:\t(np.float64(0.0), np.float64(0.4444444444444444))\n",
      "5:\t(np.float64(0.0), np.float64(0.5555555555555556))\n",
      "6:\t(np.float64(0.0), np.float64(0.6666666666666666))\n",
      "7:\t(np.float64(0.0), np.float64(0.7777777777777777))\n",
      "8:\t(np.float64(0.0), np.float64(0.8888888888888888))\n",
      "9:\t(np.float64(0.0), np.float64(1.0))\n",
      "10:\t(np.float64(0.1111111111111111), np.float64(0.0))\n",
      "11:\t(np.float64(0.1111111111111111), np.float64(0.1111111111111111))\n",
      "12:\t(np.float64(0.1111111111111111), np.float64(0.2222222222222222))\n",
      "13:\t(np.float64(0.1111111111111111), np.float64(0.3333333333333333))\n",
      "14:\t(np.float64(0.1111111111111111), np.float64(0.4444444444444444))\n",
      "15:\t(np.float64(0.1111111111111111), np.float64(0.5555555555555556))\n",
      "16:\t(np.float64(0.1111111111111111), np.float64(0.6666666666666666))\n",
      "17:\t(np.float64(0.1111111111111111), np.float64(0.7777777777777777))\n",
      "18:\t(np.float64(0.1111111111111111), np.float64(0.8888888888888888))\n",
      "19:\t(np.float64(0.1111111111111111), np.float64(1.0))\n",
      "20:\t(np.float64(0.2222222222222222), np.float64(0.0))\n",
      "21:\t(np.float64(0.2222222222222222), np.float64(0.1111111111111111))\n",
      "22:\t(np.float64(0.2222222222222222), np.float64(0.2222222222222222))\n",
      "23:\t(np.float64(0.2222222222222222), np.float64(0.3333333333333333))\n",
      "24:\t(np.float64(0.2222222222222222), np.float64(0.4444444444444444))\n",
      "25:\t(np.float64(0.2222222222222222), np.float64(0.5555555555555556))\n",
      "26:\t(np.float64(0.2222222222222222), np.float64(0.6666666666666666))\n",
      "27:\t(np.float64(0.2222222222222222), np.float64(0.7777777777777777))\n",
      "28:\t(np.float64(0.2222222222222222), np.float64(0.8888888888888888))\n",
      "29:\t(np.float64(0.2222222222222222), np.float64(1.0))\n",
      "30:\t(np.float64(0.3333333333333333), np.float64(0.0))\n",
      "31:\t(np.float64(0.3333333333333333), np.float64(0.1111111111111111))\n",
      "32:\t(np.float64(0.3333333333333333), np.float64(0.2222222222222222))\n",
      "33:\t(np.float64(0.3333333333333333), np.float64(0.3333333333333333))\n",
      "34:\t(np.float64(0.3333333333333333), np.float64(0.4444444444444444))\n",
      "35:\t(np.float64(0.3333333333333333), np.float64(0.5555555555555556))\n",
      "36:\t(np.float64(0.3333333333333333), np.float64(0.6666666666666666))\n",
      "37:\t(np.float64(0.3333333333333333), np.float64(0.7777777777777777))\n",
      "38:\t(np.float64(0.3333333333333333), np.float64(0.8888888888888888))\n",
      "39:\t(np.float64(0.3333333333333333), np.float64(1.0))\n",
      "40:\t(np.float64(0.4444444444444444), np.float64(0.0))\n",
      "41:\t(np.float64(0.4444444444444444), np.float64(0.1111111111111111))\n",
      "42:\t(np.float64(0.4444444444444444), np.float64(0.2222222222222222))\n",
      "43:\t(np.float64(0.4444444444444444), np.float64(0.3333333333333333))\n",
      "44:\t(np.float64(0.4444444444444444), np.float64(0.4444444444444444))\n",
      "45:\t(np.float64(0.4444444444444444), np.float64(0.5555555555555556))\n",
      "46:\t(np.float64(0.4444444444444444), np.float64(0.6666666666666666))\n",
      "47:\t(np.float64(0.4444444444444444), np.float64(0.7777777777777777))\n",
      "48:\t(np.float64(0.4444444444444444), np.float64(0.8888888888888888))\n",
      "49:\t(np.float64(0.4444444444444444), np.float64(1.0))\n",
      "50:\t(np.float64(0.5555555555555556), np.float64(0.0))\n",
      "51:\t(np.float64(0.5555555555555556), np.float64(0.1111111111111111))\n",
      "52:\t(np.float64(0.5555555555555556), np.float64(0.2222222222222222))\n",
      "53:\t(np.float64(0.5555555555555556), np.float64(0.3333333333333333))\n",
      "54:\t(np.float64(0.5555555555555556), np.float64(0.4444444444444444))\n",
      "55:\t(np.float64(0.5555555555555556), np.float64(0.5555555555555556))\n",
      "56:\t(np.float64(0.5555555555555556), np.float64(0.6666666666666666))\n",
      "57:\t(np.float64(0.5555555555555556), np.float64(0.7777777777777777))\n",
      "58:\t(np.float64(0.5555555555555556), np.float64(0.8888888888888888))\n",
      "59:\t(np.float64(0.5555555555555556), np.float64(1.0))\n",
      "60:\t(np.float64(0.6666666666666666), np.float64(0.0))\n",
      "61:\t(np.float64(0.6666666666666666), np.float64(0.1111111111111111))\n",
      "62:\t(np.float64(0.6666666666666666), np.float64(0.2222222222222222))\n",
      "63:\t(np.float64(0.6666666666666666), np.float64(0.3333333333333333))\n",
      "64:\t(np.float64(0.6666666666666666), np.float64(0.4444444444444444))\n",
      "65:\t(np.float64(0.6666666666666666), np.float64(0.5555555555555556))\n",
      "66:\t(np.float64(0.6666666666666666), np.float64(0.6666666666666666))\n",
      "67:\t(np.float64(0.6666666666666666), np.float64(0.7777777777777777))\n",
      "68:\t(np.float64(0.6666666666666666), np.float64(0.8888888888888888))\n",
      "69:\t(np.float64(0.6666666666666666), np.float64(1.0))\n",
      "70:\t(np.float64(0.7777777777777777), np.float64(0.0))\n",
      "71:\t(np.float64(0.7777777777777777), np.float64(0.1111111111111111))\n",
      "72:\t(np.float64(0.7777777777777777), np.float64(0.2222222222222222))\n",
      "73:\t(np.float64(0.7777777777777777), np.float64(0.3333333333333333))\n",
      "74:\t(np.float64(0.7777777777777777), np.float64(0.4444444444444444))\n",
      "75:\t(np.float64(0.7777777777777777), np.float64(0.5555555555555556))\n",
      "76:\t(np.float64(0.7777777777777777), np.float64(0.6666666666666666))\n",
      "77:\t(np.float64(0.7777777777777777), np.float64(0.7777777777777777))\n",
      "78:\t(np.float64(0.7777777777777777), np.float64(0.8888888888888888))\n",
      "79:\t(np.float64(0.7777777777777777), np.float64(1.0))\n",
      "80:\t(np.float64(0.8888888888888888), np.float64(0.0))\n",
      "81:\t(np.float64(0.8888888888888888), np.float64(0.1111111111111111))\n",
      "82:\t(np.float64(0.8888888888888888), np.float64(0.2222222222222222))\n",
      "83:\t(np.float64(0.8888888888888888), np.float64(0.3333333333333333))\n",
      "84:\t(np.float64(0.8888888888888888), np.float64(0.4444444444444444))\n",
      "85:\t(np.float64(0.8888888888888888), np.float64(0.5555555555555556))\n",
      "86:\t(np.float64(0.8888888888888888), np.float64(0.6666666666666666))\n",
      "87:\t(np.float64(0.8888888888888888), np.float64(0.7777777777777777))\n",
      "88:\t(np.float64(0.8888888888888888), np.float64(0.8888888888888888))\n",
      "89:\t(np.float64(0.8888888888888888), np.float64(1.0))\n",
      "90:\t(np.float64(1.0), np.float64(0.0))\n",
      "91:\t(np.float64(1.0), np.float64(0.1111111111111111))\n",
      "92:\t(np.float64(1.0), np.float64(0.2222222222222222))\n",
      "93:\t(np.float64(1.0), np.float64(0.3333333333333333))\n",
      "94:\t(np.float64(1.0), np.float64(0.4444444444444444))\n",
      "95:\t(np.float64(1.0), np.float64(0.5555555555555556))\n",
      "96:\t(np.float64(1.0), np.float64(0.6666666666666666))\n",
      "97:\t(np.float64(1.0), np.float64(0.7777777777777777))\n",
      "98:\t(np.float64(1.0), np.float64(0.8888888888888888))\n",
      "99:\t(np.float64(1.0), np.float64(1.0))\n"
     ]
    }
   ],
   "source": [
    "print(\"The treatment combinations are:\")\n",
    "for index, treatment_combination in enumerate(treatment_combinations):\n",
    "    print(f\"{index}:\\t{treatment_combination}\")"
   ]
  },
  {
   "cell_type": "markdown",
   "metadata": {},
   "source": [
    "Does this seem right? Let's check!"
   ]
  },
  {
   "cell_type": "code",
   "execution_count": 9,
   "metadata": {},
   "outputs": [
    {
     "name": "stdout",
     "output_type": "stream",
     "text": [
      "Well done! You created all possible treatment combinations!\n"
     ]
    }
   ],
   "source": [
    "assert len(treatment_combinations) == n_levels ** n_factors, \"Seems like you didn't create all treatment combinations.\"\n",
    "\n",
    "print(\"Well done! You created all possible treatment combinations!\")"
   ]
  },
  {
   "cell_type": "markdown",
   "metadata": {},
   "source": [
    "## Factorial Explosion\n",
    "\n",
    "For a 2x10 FED there are already $levels^{factors}=10^2=100$ possible treatments.\n",
    "\n",
    "Multiplying that by several repititions per treatment, we easily get to hundreds of runs per experimental unit.\n",
    "\n",
    "Having even more factors or levels increases that number dramatically.\n",
    "\n",
    "This is called factorial explosion.\n",
    "\n",
    "For e.g. 7 factors at 3 levels we get $10^3=1000$ runs per unit. In many experimental cases that's basically unfeasible."
   ]
  },
  {
   "cell_type": "markdown",
   "metadata": {},
   "source": [
    "## Fractional FED\n",
    "\n",
    "To overcome the problem of factorial explosion, researchers came up with fractional FED.\n",
    "\n",
    "In this case you're cutting down the number of possible combinations.\n",
    "\n",
    "But this might be impractical since we don't know the effect sizes of these interactions beforehand.\n",
    "\n",
    "But fractional FED can be a great tool if the researcher has a clear picture of the research goals - just keep this limitation in mind."
   ]
  }
 ],
 "metadata": {
  "kernelspec": {
   "display_name": "oed",
   "language": "python",
   "name": "python3"
  },
  "language_info": {
   "codemirror_mode": {
    "name": "ipython",
    "version": 3
   },
   "file_extension": ".py",
   "mimetype": "text/x-python",
   "name": "python",
   "nbconvert_exporter": "python",
   "pygments_lexer": "ipython3",
   "version": "3.11.11"
  }
 },
 "nbformat": 4,
 "nbformat_minor": 2
}
