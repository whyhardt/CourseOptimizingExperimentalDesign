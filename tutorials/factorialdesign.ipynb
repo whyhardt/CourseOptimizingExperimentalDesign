{
 "cells": [
  {
   "cell_type": "markdown",
   "metadata": {},
   "source": [
    "# Introduction to Factorial Experimental Design"
   ]
  },
  {
   "cell_type": "markdown",
   "metadata": {},
   "source": [
    "This notebook introduces the concept of Factorial Experimental Design (FED) and demonstrates how to implement a factorial experiment using Python\n",
    "\n",
    "Factorial experiments are a popular tool for studying main effects of single factors and interaction effects of multiple factors at different factor levels in a controlled manner.\n",
    "\n",
    "This tutorial covers only the full FEDs.\n",
    "\n",
    "In this tutorial you will learn to define the necessary parameters for a full FED i.e., factors and levels and how to compute the design matrix which contains all possible condition combinations."
   ]
  },
  {
   "cell_type": "markdown",
   "metadata": {},
   "source": [
    "## Setup of a Factorial Experimental Design\n",
    "\n",
    "First, we will define all necessary parameters for our FED.\n",
    "This will be done by defining a dictionary where each key is a factor and the corresponding values will be the levels.\n",
    "\n",
    "Here we will implement a 2x10 FED for our 2AFC experiment with the factors `ratio` and `scatteredness`. This means we will have two factors and ten levels per factor. "
   ]
  },
  {
   "cell_type": "code",
   "execution_count": 1,
   "metadata": {},
   "outputs": [],
   "source": [
    "# Define the factorial parameters\n",
    "# Remember, we need a 3x3 factorial design\n",
    "n_factors = 2\n",
    "n_levels = 10"
   ]
  },
  {
   "cell_type": "markdown",
   "metadata": {},
   "source": [
    "Define the dictionary which contains the factors and the corresponding values\n",
    "\n",
    "You can leave the values None since we will fill them in a little bit later."
   ]
  },
  {
   "cell_type": "code",
   "execution_count": 2,
   "metadata": {},
   "outputs": [],
   "source": [
    "factorial_design = {\n",
    "    'ratio': None,\n",
    "    'scatteredness': None,\n",
    "}"
   ]
  },
  {
   "cell_type": "markdown",
   "metadata": {},
   "source": [
    "Now we will fill the values. For that we implement a method which we can re-use later on.\n",
    "\n",
    "This method will make use of the linspace method from numpy \n",
    "to create a list of evenly distributed numbers between the first and the second argument (the range)\n",
    "the third argument is the number of values in the list.\n",
    "\n",
    "In our case, the given for each level will be between 0 and 1. \n",
    "\n",
    "We will fill the dictionary in a fully automatically with a for loop."
   ]
  },
  {
   "cell_type": "code",
   "execution_count": 3,
   "metadata": {},
   "outputs": [],
   "source": [
    "import numpy as np\n",
    "\n",
    "def set_levels(factorial_design: dict, n_levels: int):\n",
    "    \"\"\"\n",
    "    Args:\n",
    "        factorial_design (dict): the dictionary containing all the factors\n",
    "        levels (int): the number of levels for each factor\n",
    "    \"\"\"\n",
    "    \n",
    "    for key in factorial_design.keys():\n",
    "        factorial_design[key] = np.linspace(0, 1, n_levels)\n",
    "        \n",
    "    return factorial_design"
   ]
  },
  {
   "cell_type": "markdown",
   "metadata": {},
   "source": [
    "Let's run this method to fill our dictionary"
   ]
  },
  {
   "cell_type": "code",
   "execution_count": 4,
   "metadata": {},
   "outputs": [
    {
     "name": "stdout",
     "output_type": "stream",
     "text": [
      "{'ratio': array([0.        , 0.11111111, 0.22222222, 0.33333333, 0.44444444,\n",
      "       0.55555556, 0.66666667, 0.77777778, 0.88888889, 1.        ]), 'scatteredness': array([0.        , 0.11111111, 0.22222222, 0.33333333, 0.44444444,\n",
      "       0.55555556, 0.66666667, 0.77777778, 0.88888889, 1.        ])}\n"
     ]
    }
   ],
   "source": [
    "factorial_design = set_levels(factorial_design, n_levels)\n",
    "print(factorial_design)"
   ]
  },
  {
   "cell_type": "markdown",
   "metadata": {},
   "source": [
    "## Make condition combinations\n",
    "\n",
    "In this part we will take the defined FED and create all the possible condition combinations which are necessary for a full factorial experiment.\n",
    "\n",
    "We can implement such a method which does that either by using simple for-loops or through the itertool library."
   ]
  },
  {
   "cell_type": "code",
   "execution_count": 5,
   "metadata": {},
   "outputs": [],
   "source": [
    "# use the itertool library to create all condition combinations from the factorial design\n",
    "import itertools\n",
    "\n",
    "condition_combinations = list(itertools.product(*factorial_design.values()))"
   ]
  },
  {
   "cell_type": "markdown",
   "metadata": {},
   "source": [
    "Let's take a look at the possible condition combinations"
   ]
  },
  {
   "cell_type": "code",
   "execution_count": 6,
   "metadata": {},
   "outputs": [
    {
     "name": "stdout",
     "output_type": "stream",
     "text": [
      "The condition combinations are:\n",
      "0:\t(0.0, 0.0)\n",
      "1:\t(0.0, 0.1111111111111111)\n",
      "2:\t(0.0, 0.2222222222222222)\n",
      "3:\t(0.0, 0.3333333333333333)\n",
      "4:\t(0.0, 0.4444444444444444)\n",
      "5:\t(0.0, 0.5555555555555556)\n",
      "6:\t(0.0, 0.6666666666666666)\n",
      "7:\t(0.0, 0.7777777777777777)\n",
      "8:\t(0.0, 0.8888888888888888)\n",
      "9:\t(0.0, 1.0)\n",
      "10:\t(0.1111111111111111, 0.0)\n",
      "11:\t(0.1111111111111111, 0.1111111111111111)\n",
      "12:\t(0.1111111111111111, 0.2222222222222222)\n",
      "13:\t(0.1111111111111111, 0.3333333333333333)\n",
      "14:\t(0.1111111111111111, 0.4444444444444444)\n",
      "15:\t(0.1111111111111111, 0.5555555555555556)\n",
      "16:\t(0.1111111111111111, 0.6666666666666666)\n",
      "17:\t(0.1111111111111111, 0.7777777777777777)\n",
      "18:\t(0.1111111111111111, 0.8888888888888888)\n",
      "19:\t(0.1111111111111111, 1.0)\n",
      "20:\t(0.2222222222222222, 0.0)\n",
      "21:\t(0.2222222222222222, 0.1111111111111111)\n",
      "22:\t(0.2222222222222222, 0.2222222222222222)\n",
      "23:\t(0.2222222222222222, 0.3333333333333333)\n",
      "24:\t(0.2222222222222222, 0.4444444444444444)\n",
      "25:\t(0.2222222222222222, 0.5555555555555556)\n",
      "26:\t(0.2222222222222222, 0.6666666666666666)\n",
      "27:\t(0.2222222222222222, 0.7777777777777777)\n",
      "28:\t(0.2222222222222222, 0.8888888888888888)\n",
      "29:\t(0.2222222222222222, 1.0)\n",
      "30:\t(0.3333333333333333, 0.0)\n",
      "31:\t(0.3333333333333333, 0.1111111111111111)\n",
      "32:\t(0.3333333333333333, 0.2222222222222222)\n",
      "33:\t(0.3333333333333333, 0.3333333333333333)\n",
      "34:\t(0.3333333333333333, 0.4444444444444444)\n",
      "35:\t(0.3333333333333333, 0.5555555555555556)\n",
      "36:\t(0.3333333333333333, 0.6666666666666666)\n",
      "37:\t(0.3333333333333333, 0.7777777777777777)\n",
      "38:\t(0.3333333333333333, 0.8888888888888888)\n",
      "39:\t(0.3333333333333333, 1.0)\n",
      "40:\t(0.4444444444444444, 0.0)\n",
      "41:\t(0.4444444444444444, 0.1111111111111111)\n",
      "42:\t(0.4444444444444444, 0.2222222222222222)\n",
      "43:\t(0.4444444444444444, 0.3333333333333333)\n",
      "44:\t(0.4444444444444444, 0.4444444444444444)\n",
      "45:\t(0.4444444444444444, 0.5555555555555556)\n",
      "46:\t(0.4444444444444444, 0.6666666666666666)\n",
      "47:\t(0.4444444444444444, 0.7777777777777777)\n",
      "48:\t(0.4444444444444444, 0.8888888888888888)\n",
      "49:\t(0.4444444444444444, 1.0)\n",
      "50:\t(0.5555555555555556, 0.0)\n",
      "51:\t(0.5555555555555556, 0.1111111111111111)\n",
      "52:\t(0.5555555555555556, 0.2222222222222222)\n",
      "53:\t(0.5555555555555556, 0.3333333333333333)\n",
      "54:\t(0.5555555555555556, 0.4444444444444444)\n",
      "55:\t(0.5555555555555556, 0.5555555555555556)\n",
      "56:\t(0.5555555555555556, 0.6666666666666666)\n",
      "57:\t(0.5555555555555556, 0.7777777777777777)\n",
      "58:\t(0.5555555555555556, 0.8888888888888888)\n",
      "59:\t(0.5555555555555556, 1.0)\n",
      "60:\t(0.6666666666666666, 0.0)\n",
      "61:\t(0.6666666666666666, 0.1111111111111111)\n",
      "62:\t(0.6666666666666666, 0.2222222222222222)\n",
      "63:\t(0.6666666666666666, 0.3333333333333333)\n",
      "64:\t(0.6666666666666666, 0.4444444444444444)\n",
      "65:\t(0.6666666666666666, 0.5555555555555556)\n",
      "66:\t(0.6666666666666666, 0.6666666666666666)\n",
      "67:\t(0.6666666666666666, 0.7777777777777777)\n",
      "68:\t(0.6666666666666666, 0.8888888888888888)\n",
      "69:\t(0.6666666666666666, 1.0)\n",
      "70:\t(0.7777777777777777, 0.0)\n",
      "71:\t(0.7777777777777777, 0.1111111111111111)\n",
      "72:\t(0.7777777777777777, 0.2222222222222222)\n",
      "73:\t(0.7777777777777777, 0.3333333333333333)\n",
      "74:\t(0.7777777777777777, 0.4444444444444444)\n",
      "75:\t(0.7777777777777777, 0.5555555555555556)\n",
      "76:\t(0.7777777777777777, 0.6666666666666666)\n",
      "77:\t(0.7777777777777777, 0.7777777777777777)\n",
      "78:\t(0.7777777777777777, 0.8888888888888888)\n",
      "79:\t(0.7777777777777777, 1.0)\n",
      "80:\t(0.8888888888888888, 0.0)\n",
      "81:\t(0.8888888888888888, 0.1111111111111111)\n",
      "82:\t(0.8888888888888888, 0.2222222222222222)\n",
      "83:\t(0.8888888888888888, 0.3333333333333333)\n",
      "84:\t(0.8888888888888888, 0.4444444444444444)\n",
      "85:\t(0.8888888888888888, 0.5555555555555556)\n",
      "86:\t(0.8888888888888888, 0.6666666666666666)\n",
      "87:\t(0.8888888888888888, 0.7777777777777777)\n",
      "88:\t(0.8888888888888888, 0.8888888888888888)\n",
      "89:\t(0.8888888888888888, 1.0)\n",
      "90:\t(1.0, 0.0)\n",
      "91:\t(1.0, 0.1111111111111111)\n",
      "92:\t(1.0, 0.2222222222222222)\n",
      "93:\t(1.0, 0.3333333333333333)\n",
      "94:\t(1.0, 0.4444444444444444)\n",
      "95:\t(1.0, 0.5555555555555556)\n",
      "96:\t(1.0, 0.6666666666666666)\n",
      "97:\t(1.0, 0.7777777777777777)\n",
      "98:\t(1.0, 0.8888888888888888)\n",
      "99:\t(1.0, 1.0)\n"
     ]
    }
   ],
   "source": [
    "print(\"The condition combinations are:\")\n",
    "for index, condition_combination in enumerate(condition_combinations):\n",
    "    print(f\"{index}:\\t{condition_combination}\")"
   ]
  },
  {
   "cell_type": "markdown",
   "metadata": {},
   "source": [
    "## Factorial Explosion\n",
    "\n",
    "For a 2x10 FED there are already $levels^{factors}=10^2=100$ possible conditions.\n",
    "\n",
    "Multiplying that by several repititions per condition, we easily get to hundreds of runs per experimental unit.\n",
    "\n",
    "Having even more factors or levels increases that number dramatically.\n",
    "\n",
    "This is called factorial explosion. This leads quickly to unfeasible experimental designs."
   ]
  },
  {
   "cell_type": "markdown",
   "metadata": {},
   "source": [
    "## Fractional FED\n",
    "\n",
    "To overcome the problem of factorial explosion, you can apply fractional FED.\n",
    "\n",
    "In this case you're cutting down the number of possible combinations.\n",
    "\n",
    "But this might be impractical in many cases since we don't know the effect sizes of these interactions beforehand and can thus lead to subjective biases in the outcomes."
   ]
  }
 ],
 "metadata": {
  "kernelspec": {
   "display_name": "oed",
   "language": "python",
   "name": "python3"
  },
  "language_info": {
   "codemirror_mode": {
    "name": "ipython",
    "version": 3
   },
   "file_extension": ".py",
   "mimetype": "text/x-python",
   "name": "python",
   "nbconvert_exporter": "python",
   "pygments_lexer": "ipython3",
   "version": "3.11.11"
  }
 },
 "nbformat": 4,
 "nbformat_minor": 2
}
