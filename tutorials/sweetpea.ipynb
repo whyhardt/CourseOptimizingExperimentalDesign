{
 "cells": [
  {
   "cell_type": "markdown",
   "metadata": {},
   "source": [
    "# Using SweetPea"
   ]
  },
  {
   "cell_type": "markdown",
   "metadata": {},
   "source": [
    "This tutorial is based on the official documentation. For more information click [here](https://sweetpea-org.github.io/guide/usage.html#) to get to the official website."
   ]
  },
  {
   "cell_type": "markdown",
   "metadata": {},
   "source": [
    "So you’ve decided to design a factorial experiment. That’s excellent! Factorial experimental designs are a great way to build repeatable experiments with multiple independent variables. Let’s design our experiment in words first, and then build it in SweetPea."
   ]
  },
  {
   "cell_type": "markdown",
   "metadata": {},
   "source": [
    "## A Simple Stroop Experiment"
   ]
  },
  {
   "cell_type": "markdown",
   "metadata": {},
   "source": [
    "For our example, we’ll be testing the [Stroop effect](https://en.wikipedia.org/wiki/Stroop_effect). From the Wikipedia article:\n",
    "\n",
    "    In psychology, the Stroop effect is the delay in reaction time between congruent and incongruent stimuli.\n",
    "\n",
    "One of the most well-known experiments to test the Stroop effect is to show a participant a series of words for colors that are also displayed in color. Sometimes, the color of the word is the same as the color in which the word is written — this is called congruence. Other times, the word and color are different, which is incongruence.\n",
    "\n",
    "We have two apparent independent variables: the color and the text. We call independent variables factors in the realm of factorial design.\n",
    "\n",
    "**Note:**\n",
    "There is also a third factor: whether the pairing of the color and text is congruent or incongruent. This is a form of derived factor, and we’ll come back to it later.\n",
    "\n",
    "To test this effect, we can construct a series of trials to administer to a participant, where each trial is a single color+text pairing. For this experiment, we will use the three colors red, green, and blue, and we will also use the names of those colors as the text. All together, this gives us 9 possible values for each trial:\n",
    "\n",
    "||Red (Text)|Green (Text)|Blue (Text)|\n",
    "|---|---|---|---|\n",
    "|Red (Color)|<span style=\"color:#FF0000;\">red</span>|<span style=\"color:#FF0000;\">green</span>|<span style=\"color:#FF0000;\">blue</span>|\n",
    "|Green (Color)|<span style=\"color:#008000;\">red</span>|<span style=\"color:#008000;\">green</span>|<span style=\"color:#008000;\">blue</span>|\n",
    "|Blue (Color)|<span style=\"color:#0000FF;\">red</span>|<span style=\"color:#0000FF;\">green</span>|<span style=\"color:#0000FF;\">blue</span>|\n",
    "\n",
    "In the parlance of factorial design, these three colors constitute levels in each of the factors. That is to say that the ```color``` factor has three levels, and the ```text``` factor has three levels.\n",
    "\n",
    "A trial will consist of showing one of the color and text pairs to a participant and asking them to identify the color in which the text is written. We will synthesize some trial sequences for our experiment now."
   ]
  },
  {
   "cell_type": "markdown",
   "metadata": {},
   "source": [
    "## Building the Simple Stroop Experiment"
   ]
  },
  {
   "cell_type": "markdown",
   "metadata": {},
   "source": [
    "To build this simple Stroop experiment, we import and use the following SweetPea language forms: \n",
    "- ```Factor``` — constructs factors and their levels\n",
    "- ```CrossBlock``` — combines the factors to produce trials\n",
    "- ```synthesize_trials()``` — synthesizes trial sequences\n",
    "\n",
    "To put it together, we do:"
   ]
  },
  {
   "cell_type": "code",
   "execution_count": null,
   "metadata": {},
   "outputs": [
    {
     "name": "stdout",
     "output_type": "stream",
     "text": [
      "Sampling 3 trial sequences using NonUniformGen.\n",
      "Encoding experiment constraints...\n",
      "Running CryptoMiniSat...\n"
     ]
    }
   ],
   "source": [
    "from sweetpea import Factor, CrossBlock, synthesize_trials\n",
    "\n",
    "# define the factors and their respective levels\n",
    "text = Factor(\"text\", [\"red\", \"blue\", \"green\"])\n",
    "color = Factor(\"color\", [\"red\", \"blue\", \"green\"])\n",
    "\n",
    "# define the crossing of factors\n",
    "block = CrossBlock([color, text], [color, text], [])\n",
    "\n",
    "# synthesize the trials\n",
    "experiments = synthesize_trials(block, 3)"
   ]
  },
  {
   "cell_type": "markdown",
   "metadata": {},
   "source": [
    "The result of this synthesis is based on pseudo-random number generation, and so the output will not be the same every time. However, when we ran the code to write this tutorial, we saw the following output (your output should look similar, though probably not identical):\n",
    "\n",
    "    1 trial sequences found.\n",
    "    Experiment 0:\n",
    "    color green | text blue\n",
    "    color blue  | text green\n",
    "    color green | text red\n",
    "    color green | text green\n",
    "    color red   | text green\n",
    "    color red   | text blue\n",
    "    color blue  | text blue\n",
    "    color red   | text red\n",
    "    color blue  | text red\n"
   ]
  },
  {
   "cell_type": "code",
   "execution_count": 21,
   "metadata": {},
   "outputs": [
    {
     "name": "stdout",
     "output_type": "stream",
     "text": [
      "\n",
      "3 trial sequences found.\n",
      "\n",
      "Experiment 0:\n",
      "color blue  | text red  \n",
      "color red   | text red  \n",
      "color green | text red  \n",
      "\n",
      "Experiment 1:\n",
      "color blue  | text green\n",
      "color red   | text red  \n",
      "color green | text red  \n",
      "\n",
      "Experiment 2:\n",
      "color blue  | text green\n",
      "color red   | text green\n",
      "color green | text red  \n",
      "\n"
     ]
    }
   ],
   "source": [
    "from sweetpea import print_experiments\n",
    "\n",
    "print_experiments(block, experiments)"
   ]
  },
  {
   "cell_type": "markdown",
   "metadata": {},
   "source": [
    "**Tip:**\n",
    "\n",
    "The print_experiments() function is useful for printing the results of synthesis."
   ]
  },
  {
   "cell_type": "markdown",
   "metadata": {},
   "source": [
    "We generated a fully-crossed experiment: all possible color-text pairs were generated, though their order was randomized. \n",
    "\n",
    "We can see this by sorting a simplified representation of the experiment:"
   ]
  },
  {
   "cell_type": "code",
   "execution_count": 3,
   "metadata": {},
   "outputs": [
    {
     "name": "stdout",
     "output_type": "stream",
     "text": [
      "('blue', 'blue')\n",
      "('blue', 'green')\n",
      "('blue', 'red')\n",
      "('green', 'blue')\n",
      "('green', 'green')\n",
      "('green', 'red')\n",
      "('red', 'blue')\n",
      "('red', 'green')\n",
      "('red', 'red')\n"
     ]
    }
   ],
   "source": [
    "from sweetpea import experiments_to_tuples\n",
    "\n",
    "# We immediately access the first element of the returned list.\n",
    "# This is because we only generated one trial run.\n",
    "simple = experiments_to_tuples(block, experiments)[0]\n",
    "for pair in sorted(simple):\n",
    "    print(pair)"
   ]
  },
  {
   "cell_type": "markdown",
   "metadata": {},
   "source": [
    "Because the color factor has $3$ levels and the text factor has $3$ levels, when we fully cross the factors we get $3*3=9$ resulting trials."
   ]
  },
  {
   "cell_type": "markdown",
   "metadata": {},
   "source": [
    "## SweetPea Feature Recap"
   ]
  },
  {
   "cell_type": "markdown",
   "metadata": {},
   "source": [
    "In building our simple Stroop experiment, we used a few of the most important SweetPea forms. Let’s review them now."
   ]
  },
  {
   "cell_type": "markdown",
   "metadata": {},
   "source": [
    "### Simple Factors and Levels\n",
    "\n",
    "Simple factors are factors that are composed only of simple levels. Simple levels are levels that are essentially just names and nothing more; they are not dependent on any other factors or levels.\n",
    "\n",
    "While it is possible to import the `Level` class, it is usually not necessary (unless you want to assign weights to levels). Simple levels can only be put into simple factors, which in turn can only consist of simple levels, and we can create simple levels implicitly during `Factor` initialization.\n",
    "\n",
    "When you construct a `Factor`, you also pass a list of levels to it. If those levels are not instances of the `Level` class, SweetPea will automatically convert them into instances of `Level`.\n",
    "\n",
    "To put all this information together: you can create a simple factor composed of simple levels by just using the `Factor` initializer:"
   ]
  },
  {
   "cell_type": "code",
   "execution_count": 4,
   "metadata": {},
   "outputs": [
    {
     "name": "stdout",
     "output_type": "stream",
     "text": [
      "The factor levels are: 4\n",
      "The factor name is: one\n"
     ]
    }
   ],
   "source": [
    "from sweetpea import Factor\n",
    "\n",
    "factor = Factor(\"factor_name\", (\"one\", 2, 3.0, True))\n",
    "\n",
    "print(f'The factor levels are: {len(factor.levels)}')\n",
    "print(f'The factor name is: {factor[\"one\"].name}')"
   ]
  },
  {
   "cell_type": "markdown",
   "metadata": {},
   "source": [
    "We will discuss complex factors (also known as derived factors) a bit later."
   ]
  },
  {
   "cell_type": "markdown",
   "metadata": {},
   "source": [
    "### Block Creation\n",
    "\n",
    "After you get your factors and levels together, you can create an experimental design `Block` using one of the appropriate functions. \n",
    "\n",
    "We showed how it looks to use `CrossBlock` in our simple example above. \n",
    "\n",
    "The function takes a number of arguments, but in the simplest case you need only do:"
   ]
  },
  {
   "cell_type": "code",
   "execution_count": 5,
   "metadata": {},
   "outputs": [],
   "source": [
    "from sweetpea import Factor, CrossBlock\n",
    "\n",
    "# define the factors\n",
    "f1 = Factor(\"f1\", (1, 2, 3))\n",
    "f2 = Factor(\"f2\", (\"a\", \"b\", \"c\"))\n",
    "\n",
    "# define the crossing of factors\n",
    "block = CrossBlock(\n",
    "    design = [f1, f2],\n",
    "    crossing = [f1, f2], \n",
    "    constraints = [])"
   ]
  },
  {
   "cell_type": "markdown",
   "metadata": {},
   "source": [
    "That is to say that when you’re only dealing with a simple experiment (an experiment comprised only of simple factors), you can probably just use a list of your factors as both the `design` and your `crossing`, and then hold the `constraints` empty with an empty list."
   ]
  },
  {
   "cell_type": "markdown",
   "metadata": {},
   "source": [
    "### Trial Synthesis\n",
    "\n",
    "Once you have a complete experimental design in the form of a `Block`, you’re ready to use it to synthesize trials. \n",
    "\n",
    "Instead of creating only one trial, you can generate an arbitrary amount of trials by setting the `sampling` argument to the desired amount.\n",
    "\n",
    "Regarding the sampling strategy, we used the default sampler in the above example, which is `IterateGen`. This automatically selects among strategies that implement non-replacement for a single request of multiple experiments, but the strategy may or may not provide uniformity for a single experiment. More sampling strategies can be found [here](https://sweetpea-org.github.io/api/sampling_strategies.html) in the official documentation."
   ]
  },
  {
   "cell_type": "code",
   "execution_count": 6,
   "metadata": {},
   "outputs": [
    {
     "name": "stdout",
     "output_type": "stream",
     "text": [
      "Sampling 3 trial sequences using NonUniformGen.\n",
      "Encoding experiment constraints...\n",
      "Running CryptoMiniSat...\n",
      "\n",
      "3 trial sequences found.\n",
      "\n",
      "Experiment 0:\n",
      "f1 3 | f2 b\n",
      "f1 2 | f2 b\n",
      "f1 2 | f2 a\n",
      "f1 1 | f2 b\n",
      "f1 2 | f2 c\n",
      "f1 3 | f2 a\n",
      "f1 1 | f2 a\n",
      "f1 3 | f2 c\n",
      "f1 1 | f2 c\n",
      "\n",
      "Experiment 1:\n",
      "f1 3 | f2 b\n",
      "f1 2 | f2 b\n",
      "f1 2 | f2 a\n",
      "f1 1 | f2 b\n",
      "f1 2 | f2 c\n",
      "f1 3 | f2 a\n",
      "f1 1 | f2 a\n",
      "f1 1 | f2 c\n",
      "f1 3 | f2 c\n",
      "\n",
      "Experiment 2:\n",
      "f1 3 | f2 b\n",
      "f1 2 | f2 b\n",
      "f1 2 | f2 a\n",
      "f1 1 | f2 b\n",
      "f1 2 | f2 c\n",
      "f1 3 | f2 a\n",
      "f1 1 | f2 c\n",
      "f1 1 | f2 a\n",
      "f1 3 | f2 c\n",
      "\n",
      "Sampling 3 trial sequences using RandomGen.\n",
      "Counting possible configurations...\n",
      "Generating samples...\n",
      "\n",
      "3 trial sequences found.\n",
      "\n",
      "Experiment 0:\n",
      "f1 1 | f2 a\n",
      "f1 1 | f2 b\n",
      "f1 2 | f2 c\n",
      "f1 2 | f2 a\n",
      "f1 2 | f2 b\n",
      "f1 3 | f2 c\n",
      "f1 3 | f2 b\n",
      "f1 1 | f2 c\n",
      "f1 3 | f2 a\n",
      "\n",
      "Experiment 1:\n",
      "f1 2 | f2 a\n",
      "f1 2 | f2 c\n",
      "f1 1 | f2 c\n",
      "f1 3 | f2 c\n",
      "f1 1 | f2 b\n",
      "f1 1 | f2 a\n",
      "f1 3 | f2 a\n",
      "f1 2 | f2 b\n",
      "f1 3 | f2 b\n",
      "\n",
      "Experiment 2:\n",
      "f1 1 | f2 b\n",
      "f1 1 | f2 a\n",
      "f1 3 | f2 b\n",
      "f1 3 | f2 a\n",
      "f1 2 | f2 a\n",
      "f1 2 | f2 b\n",
      "f1 3 | f2 c\n",
      "f1 1 | f2 c\n",
      "f1 2 | f2 c\n",
      "\n"
     ]
    }
   ],
   "source": [
    "from random import Random\n",
    "from sweetpea import synthesize_trials, IterateGen, RandomGen, print_experiments\n",
    "\n",
    "# synthesize the trials using the IterateGen sampling strategy\n",
    "experiments = synthesize_trials(\n",
    "    block = block, \n",
    "    samples = 3,\n",
    "    sampling_strategy = IterateGen\n",
    "    )\n",
    "\n",
    "print_experiments(block, experiments)\n",
    "\n",
    "# synthesize the trials using the RandomGen sampling strategy\n",
    "experiments = synthesize_trials(\n",
    "    block = block, \n",
    "    samples = 3,\n",
    "    sampling_strategy = RandomGen,\n",
    "    )\n",
    "\n",
    "print_experiments(block, experiments)"
   ]
  },
  {
   "cell_type": "markdown",
   "metadata": {},
   "source": [
    "Which difference can you see between the synthesized trials using different types of sampling strategies?"
   ]
  },
  {
   "cell_type": "markdown",
   "metadata": {},
   "source": [
    "### Working With Derived Levels\n",
    "\n",
    "We’ve covered simple factors and levels, so now we move on to the more complex capabilities of SweetPea: derivations and constraints."
   ]
  },
  {
   "cell_type": "markdown",
   "metadata": {},
   "source": [
    "#### Derivation\n",
    "\n",
    "Derivation is the process of creating new levels that depend in some way upon information contained in other levels from other factors — and sometimes other trials. In other words, derivation is what produces `DerivedLevels`.\n",
    "\n",
    "Derivation is perhaps best explained through example. We resume the Stroop example from above, and return to the issue of congruency. Recall that we had produced two simple factors of three levels each. Now we would like to create a factor for `congruency` that has two levels: `congruent` and `incongruent`. A trial’s `congruency` is determined by the same trial’s `color` and `text`: if they align, then the `congruency` is `congruent`. Otherwise, the trial is `incongruent`.\n",
    "\n",
    "Let’s create the `congruency` factor now. We start by recreating the `color` and `text` simple factors from before:"
   ]
  },
  {
   "cell_type": "code",
   "execution_count": 7,
   "metadata": {},
   "outputs": [],
   "source": [
    "from sweetpea import Factor\n",
    "\n",
    "text = Factor(\"text\", [\"red\", \"blue\", \"green\"])\n",
    "color = Factor(\"color\", [\"red\", \"blue\", \"green\"])"
   ]
  },
  {
   "cell_type": "markdown",
   "metadata": {},
   "source": [
    "Next, we need to define the predicate functions that will be used to determine whether a color-text pair is congruent."
   ]
  },
  {
   "cell_type": "code",
   "execution_count": 23,
   "metadata": {},
   "outputs": [],
   "source": [
    "def congruent(color: str, word: str) -> bool:\n",
    "    return color == word\n",
    "\n",
    "def incongruent(color: str, word: str) -> bool:\n",
    "    return not congruent(color, word)"
   ]
  },
  {
   "cell_type": "markdown",
   "metadata": {},
   "source": [
    "Now, we can construct the derived levels. While simple levels can be constructed directly by the `Factor` during initialization, `DerivedLevel` instances must be manually instantiated. `DerivedLevels` also require a *derivation window* as an argument. We will discuss this more in-depth in a little bit, so for now just trust us that we want to use the `WithinTrial` for this particular job:"
   ]
  },
  {
   "cell_type": "code",
   "execution_count": 24,
   "metadata": {},
   "outputs": [],
   "source": [
    "from sweetpea import DerivedLevel, WithinTrial\n",
    "\n",
    "con_level = DerivedLevel(\"congruent\", WithinTrial(congruent, [color, text]))\n",
    "inc_level = DerivedLevel(\"incongruent\", WithinTrial(incongruent, [color, text]))"
   ]
  },
  {
   "cell_type": "markdown",
   "metadata": {},
   "source": [
    "Finally, we can construct the `congruency` factor:"
   ]
  },
  {
   "cell_type": "code",
   "execution_count": 25,
   "metadata": {},
   "outputs": [],
   "source": [
    "congruency = Factor(\"congruency\", [con_level, inc_level])"
   ]
  },
  {
   "cell_type": "markdown",
   "metadata": {},
   "source": [
    "Now when we create a full crossing using `CrossBlock`, we will include the `congruency` factor with the rest of the design. \n",
    "\n",
    "However, it is not part of the crossing itself. The result of synthesizing trials from such a crossing will be a random arrangement of the following trials:\n",
    "\n",
    "|Color|Text|Congruency|\n",
    "|---|---|---|\n",
    "|red|red|congruent|\n",
    "|red|green|incongruent|\n",
    "|red|blue|incongruent|\n",
    "|green|red|incongruent|\n",
    "|green|green|congruent|\n",
    "|green|blue|incongruent|\n",
    "|blue|red|incongruent|\n",
    "|blue|green|incongruent|\n",
    "|blue|blue|congruent|\n",
    "\n",
    "We can verify this by using the `experiments_to_tuples()` function on the result of synthesizing one trial run from this design:"
   ]
  },
  {
   "cell_type": "code",
   "execution_count": 26,
   "metadata": {},
   "outputs": [
    {
     "name": "stdout",
     "output_type": "stream",
     "text": [
      "Sampling 1 trial sequences using NonUniformGen.\n",
      "Encoding experiment constraints...\n",
      "Running CryptoMiniSat...\n",
      "('blue', 'blue', 'congruent')\n",
      "('blue', 'green', 'incongruent')\n",
      "('blue', 'red', 'incongruent')\n",
      "('green', 'blue', 'incongruent')\n",
      "('green', 'green', 'congruent')\n",
      "('green', 'red', 'incongruent')\n",
      "('red', 'blue', 'incongruent')\n",
      "('red', 'green', 'incongruent')\n",
      "('red', 'red', 'congruent')\n"
     ]
    }
   ],
   "source": [
    "from sweetpea import CrossBlock, synthesize_trials, experiments_to_tuples\n",
    "\n",
    "design = [color, text, congruency]\n",
    "crossing = [color, text]\n",
    "block = CrossBlock(design, crossing, [])\n",
    "experiments = synthesize_trials(block, 1)\n",
    "\n",
    "for pair in sorted(experiments_to_tuples(block, experiments)[0]):\n",
    "    print(pair)"
   ]
  },
  {
   "cell_type": "markdown",
   "metadata": {},
   "source": [
    "#### Constraints\n",
    "\n",
    "Sometimes when designing an experiment, you’d like to impose some constraints on the mechanisms that generate trial sequences. SweetPea has you covered.\n",
    "\n",
    "Let’s say we look at the above list of trials and decide “Hmm, maybe we should ensure we don’t get too many `incongruent` trials in a row.” After all, there are six `incongruent` trials to just three `congruent` ones!\n",
    "\n",
    "Arbitrarily, we will choose to limit trial sequences such that only two `incongruent` trials may appear in a row. This will be accomplished using the `AtMostKInARow()` function."
   ]
  },
  {
   "cell_type": "code",
   "execution_count": 27,
   "metadata": {},
   "outputs": [
    {
     "name": "stdout",
     "output_type": "stream",
     "text": [
      "Sampling 3 trial sequences using NonUniformGen.\n",
      "Encoding experiment constraints...\n",
      "Running CryptoMiniSat...\n",
      "\n",
      "3 trial sequences found.\n",
      "\n",
      "Experiment 0:\n",
      "color blue  | text red   | congruency incongruent\n",
      "color green | text red   | congruency incongruent\n",
      "color green | text green | congruency congruent  \n",
      "color red   | text blue  | congruency incongruent\n",
      "color red   | text green | congruency incongruent\n",
      "color red   | text red   | congruency congruent  \n",
      "color blue  | text green | congruency incongruent\n",
      "color green | text blue  | congruency incongruent\n",
      "color blue  | text blue  | congruency congruent  \n",
      "\n",
      "Experiment 1:\n",
      "color green | text red   | congruency incongruent\n",
      "color blue  | text red   | congruency incongruent\n",
      "color green | text green | congruency congruent  \n",
      "color red   | text blue  | congruency incongruent\n",
      "color red   | text green | congruency incongruent\n",
      "color red   | text red   | congruency congruent  \n",
      "color blue  | text green | congruency incongruent\n",
      "color green | text blue  | congruency incongruent\n",
      "color blue  | text blue  | congruency congruent  \n",
      "\n",
      "Experiment 2:\n",
      "color green | text blue  | congruency incongruent\n",
      "color blue  | text red   | congruency incongruent\n",
      "color green | text green | congruency congruent  \n",
      "color red   | text blue  | congruency incongruent\n",
      "color red   | text green | congruency incongruent\n",
      "color red   | text red   | congruency congruent  \n",
      "color blue  | text green | congruency incongruent\n",
      "color green | text red   | congruency incongruent\n",
      "color blue  | text blue  | congruency congruent  \n",
      "\n"
     ]
    }
   ],
   "source": [
    "# We resume from the previous session.\n",
    "\n",
    "from sweetpea import AtMostKInARow\n",
    "\n",
    "congruency_constraint = AtMostKInARow(2, congruency)\n",
    "block = CrossBlock(design, crossing, [congruency_constraint])\n",
    "experiments = synthesize_trials(block, 3)\n",
    "print_experiments(block, experiments)"
   ]
  },
  {
   "cell_type": "markdown",
   "metadata": {},
   "source": [
    "We can see from these outputs that we never get more than two trials in a row with the same `congruency` level selected. However, note that the constraint is not imposed across experiment boundaries: the final trial of the second experiment is `incongruent`, and the first two trials of the third experiment are also `incongruent`. This adds up to three consecutive trials! But this behavior is expected. The `AtMostKInARow` constraint only looks *within* a given experiment, not across experiments."
   ]
  },
  {
   "cell_type": "markdown",
   "metadata": {},
   "source": [
    "## Create your own Experimental Design for a Stroop Task"
   ]
  },
  {
   "cell_type": "markdown",
   "metadata": {},
   "source": [
    "In the last sections you've learned about the most important features and concepts of SweetPea.\n",
    "\n",
    "Let's deepen our understanding by writing our own experimental design for a Stroop Task.\n",
    "\n",
    "We will introduce a third factor next to `color` and `text`. This factor is `task`.\n",
    "\n",
    "The `task` factor denotes whether the participant should read the `text` or say the `color`.\n",
    "\n",
    "Further, we will introduce a new derived factor, which will be `task_transition`.\n",
    "\n",
    "This derived factor denotes whether the `task` was repeated or switched between two consecutive trials.\n",
    "(Tip: You will need the `Transition` derivation. Read about it in the [official documentation](https://sweetpea-org.github.io/api.html)) \n",
    "\n",
    "#### Optional: \n",
    "\n",
    "In a next step, you can also think about adding `constraints` which handle event occurrences automatically.\n",
    "\n",
    "`SweetPea` comes with more than only the presented `AtMostKInARow` method.\n",
    "\n",
    "For more resources take a look at the [official documentation](https://sweetpea-org.github.io/api.html)\n",
    "\n",
    "### Have fun implementing your own experimental design with SweetPea! "
   ]
  },
  {
   "cell_type": "code",
   "execution_count": 30,
   "metadata": {},
   "outputs": [
    {
     "name": "stdout",
     "output_type": "stream",
     "text": [
      "\n",
      "Creating experiment without constraints:\n",
      "\n",
      "Sampling 1 trial sequences using NonUniformGen.\n",
      "Encoding experiment constraints...\n",
      "Running CryptoMiniSat...\n",
      "\n",
      "1 trial sequences found.\n",
      "\n",
      "Experiment 0:\n",
      "color blue  | text blue  | task read word         | congruency congruent | task transition       \n",
      "color red   | text green | task read word         | congruency incongruent | task transition repeat\n",
      "color green | text green | task read word         | congruency congruent | task transition repeat\n",
      "color blue  | text green | task read word         | congruency incongruent | task transition repeat\n",
      "color green | text green | task say color         | congruency congruent | task transition switch\n",
      "color blue  | text green | task say color         | congruency incongruent | task transition repeat\n",
      "color green | text blue  | task say color         | congruency incongruent | task transition repeat\n",
      "color red   | text blue  | task read word         | congruency incongruent | task transition switch\n",
      "color blue  | text blue  | task say color         | congruency congruent | task transition switch\n",
      "color red   | text blue  | task say color         | congruency incongruent | task transition repeat\n",
      "color red   | text green | task say color         | congruency incongruent | task transition repeat\n",
      "color red   | text red   | task say color         | congruency congruent | task transition repeat\n",
      "color green | text blue  | task read word         | congruency incongruent | task transition switch\n",
      "color blue  | text red   | task say color         | congruency incongruent | task transition switch\n",
      "color green | text red   | task say color         | congruency incongruent | task transition repeat\n",
      "color red   | text red   | task read word         | congruency congruent | task transition switch\n",
      "color green | text red   | task read word         | congruency incongruent | task transition repeat\n",
      "color blue  | text red   | task read word         | congruency incongruent | task transition repeat\n",
      "\n",
      "\n",
      "Creating experiment with constraints:\n",
      "\n",
      "Sampling 1 trial sequences using NonUniformGen.\n",
      "Encoding experiment constraints...\n",
      "Running CryptoMiniSat...\n",
      "\n",
      "1 trial sequences found.\n",
      "\n",
      "Experiment 0:\n",
      "color blue  | text red   | congruency incongruent | task read word | task transition       \n",
      "color blue  | text green | congruency incongruent | task read word | task transition repeat\n",
      "color green | text green | congruency congruent   | task read word | task transition repeat\n",
      "color red   | text blue  | congruency incongruent | task read word | task transition repeat\n",
      "color red   | text blue  | congruency incongruent | task say color | task transition switch\n",
      "color red   | text red   | congruency congruent   | task read word | task transition switch\n",
      "color red   | text green | congruency incongruent | task say color | task transition switch\n",
      "color red   | text green | congruency incongruent | task read word | task transition switch\n",
      "color blue  | text blue  | congruency congruent   | task say color | task transition switch\n",
      "color green | text red   | congruency incongruent | task read word | task transition switch\n",
      "color blue  | text red   | congruency incongruent | task say color | task transition switch\n",
      "color red   | text red   | congruency congruent   | task say color | task transition repeat\n",
      "color green | text blue  | congruency incongruent | task say color | task transition repeat\n",
      "color green | text red   | congruency incongruent | task say color | task transition repeat\n",
      "color blue  | text blue  | congruency congruent   | task read word | task transition switch\n",
      "color blue  | text green | congruency incongruent | task say color | task transition switch\n",
      "color green | text blue  | congruency incongruent | task read word | task transition switch\n",
      "color green | text green | congruency congruent   | task say color | task transition switch\n",
      "\n",
      "Sampling 1 trial sequences using NonUniformGen.\n",
      "Encoding experiment constraints...\n",
      "Running CryptoMiniSat...\n",
      "\n",
      "0 trial sequences found.\n",
      "\n"
     ]
    }
   ],
   "source": [
    "from sweetpea import Transition, AtLeastKInARow\n",
    "\n",
    "# define the new factor task\n",
    "color = Factor('color', ['red', 'green', 'blue'])\n",
    "text = Factor('text', ['red', 'green', 'blue'])\n",
    "task = Factor('task', ['read word', 'say color'])\n",
    "\n",
    "def congruent(color: str, word: str) -> bool:\n",
    "    return color == word\n",
    "\n",
    "def incongruent(color: str, word: str) -> bool:\n",
    "    return not congruent(color, word)\n",
    "\n",
    "con_level = DerivedLevel(\"congruent\", WithinTrial(congruent, [color, text]))\n",
    "inc_level = DerivedLevel(\"incongruent\", WithinTrial(incongruent, [color, text]))\n",
    "\n",
    "congruency = Factor(\"congruency\", [con_level, inc_level])\n",
    "\n",
    "# define the predict functions for the task transition\n",
    "def is_switch(task):\n",
    "    return task[0] != task[-1]\n",
    "\n",
    "def is_repeat(task):\n",
    "    return not is_switch(task)\n",
    "\n",
    "# define the derived levels for the task factor\n",
    "switch = DerivedLevel('switch', Transition(is_switch, [task]))\n",
    "repeat = DerivedLevel('repeat', Transition(is_repeat, [task]))\n",
    "\n",
    "# define the derived factor\n",
    "task_type = Factor('task transition', [switch, repeat])\n",
    "\n",
    "# define the new design\n",
    "# first we are going to do that without any constraints\n",
    "print('\\nCreating experiment without constraints:\\n')\n",
    "design = [color, text, congruency, task, task_type]\n",
    "crossing = [color, text, task]\n",
    "block = CrossBlock(design, crossing, [])\n",
    "experiments = synthesize_trials(block, 1)\n",
    "print_experiments(block, experiments)\n",
    "\n",
    "print('\\nCreating experiment with constraints:\\n')\n",
    "# now we will add two constraints for each derived factor\n",
    "constraint_congruency = AtMostKInARow(2, congruency)\n",
    "constraint_transition = AtLeastKInARow(3, task_type)\n",
    "block = CrossBlock(design, crossing, [constraint_congruency, constraint_transition])\n",
    "experiments = synthesize_trials(block, 1)\n",
    "print_experiments(block, experiments)\n",
    "\n",
    "# now we will define one more constraint that will contradict the previous one\n",
    "# define a AtLeastKInARow constraint which clashes with the previously defined constrained for AtMostKInARow and see what happens\n",
    "constraint_congruency_2 = AtLeastKInARow(3, congruency)\n",
    "block = CrossBlock(design, crossing, [constraint_congruency, constraint_transition, constraint_congruency_2])\n",
    "experiments = synthesize_trials(block, 1)\n",
    "print_experiments(block, experiments)"
   ]
  },
  {
   "cell_type": "code",
   "execution_count": null,
   "metadata": {},
   "outputs": [],
   "source": []
  }
 ],
 "metadata": {
  "kernelspec": {
   "display_name": "oed",
   "language": "python",
   "name": "python3"
  },
  "language_info": {
   "codemirror_mode": {
    "name": "ipython",
    "version": 3
   },
   "file_extension": ".py",
   "mimetype": "text/x-python",
   "name": "python",
   "nbconvert_exporter": "python",
   "pygments_lexer": "ipython3",
   "version": "3.11.10"
  }
 },
 "nbformat": 4,
 "nbformat_minor": 2
}
