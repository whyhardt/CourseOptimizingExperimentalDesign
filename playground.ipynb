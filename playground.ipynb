{
 "cells": [
  {
   "cell_type": "code",
   "execution_count": 59,
   "metadata": {},
   "outputs": [
    {
     "name": "stdout",
     "output_type": "stream",
     "text": [
      "[1.0, 1.4833557549816876, 1.584962500721156, 1.5, 1.2516291673878228, 0.8166890883150209]\n"
     ]
    }
   ],
   "source": [
    "import numpy as np\n",
    "\n",
    "# 12 ball weighing problem\n",
    "# 11 balls of same weight\n",
    "# 1 ball is heavier OR lighter\n",
    "# we dont know which ball is the odd one\n",
    "\n",
    "# we have a balance scale\n",
    "# we can use it 3 times\n",
    "\n",
    "# determine the entropy of each possible combination\n",
    "# use the combination with the highest entropy to continue\n",
    "\n",
    "# 1st weighing\n",
    "treatments = [\n",
    "    [6, 6, 0],\n",
    "    [5, 5, 2],\n",
    "    [4, 4, 4],\n",
    "    [3, 3, 6],\n",
    "    [2, 2, 8],\n",
    "    [1, 1, 10],\n",
    "]\n",
    "\n",
    "# compute entropy of each treatment\n",
    "entropy = []\n",
    "\n",
    "for t in treatments:\n",
    "    # compute probability of each outcome\n",
    "    p = [t[0] / 12, t[1] / 12, t[2] / 12]\n",
    "    # compute entropy\n",
    "    e = -sum([x * np.log2(x) for x in p if x > 0])\n",
    "    entropy.append(e)\n",
    "    \n",
    "print(entropy)\n",
    "\n",
    "\n"
   ]
  },
  {
   "cell_type": "code",
   "execution_count": null,
   "metadata": {},
   "outputs": [],
   "source": []
  }
 ],
 "metadata": {
  "kernelspec": {
   "display_name": "oed",
   "language": "python",
   "name": "python3"
  },
  "language_info": {
   "codemirror_mode": {
    "name": "ipython",
    "version": 3
   },
   "file_extension": ".py",
   "mimetype": "text/x-python",
   "name": "python",
   "nbconvert_exporter": "python",
   "pygments_lexer": "ipython3",
   "version": "3.11.5"
  }
 },
 "nbformat": 4,
 "nbformat_minor": 2
}
